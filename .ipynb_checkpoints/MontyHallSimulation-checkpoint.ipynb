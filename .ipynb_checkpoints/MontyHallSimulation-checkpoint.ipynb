{
 "metadata": {
  "name": "",
  "signature": "sha256:b520702cf29c6d1d899954fc779f9f2f583f980df711b9be14fba3cf41c866e1"
 },
 "nbformat": 3,
 "nbformat_minor": 0,
 "worksheets": [
  {
   "cells": [
    {
     "cell_type": "markdown",
     "metadata": {},
     "source": [
      "## Monty Hall Problem Simulation\n",
      "##### http://en.wikipedia.org/wiki/Monty_Hall_problem\n",
      "##### http://priceonomics.com/the-time-everyone-corrected-the-worlds-smartest/"
     ]
    },
    {
     "cell_type": "markdown",
     "metadata": {},
     "source": [
      "Suppose you're on a game show, and you're given the choice of three doors: Behind one door is a car; behind the others, goats. You pick a door, say No. 1, and the host, who knows what's behind the doors, opens another door, say No. 3, which has a goat. He then says to you, \"Do you want to pick door No. 2?\" Is it to your advantage to switch your choice?"
     ]
    },
    {
     "cell_type": "code",
     "collapsed": false,
     "input": [
      "import numpy as np"
     ],
     "language": "python",
     "metadata": {},
     "outputs": [],
     "prompt_number": 5
    },
    {
     "cell_type": "code",
     "collapsed": false,
     "input": [
      "# Number of simulations: 100000\n",
      "nSim = 100000\n",
      "\n",
      "# Number of doors: nDoor\n",
      "nDoor = 3"
     ],
     "language": "python",
     "metadata": {},
     "outputs": [],
     "prompt_number": 6
    },
    {
     "cell_type": "code",
     "collapsed": false,
     "input": [
      "# Function to simulate a game or a trial of Monty Hall problem\n",
      "def game(nDoor, switch_choice):\n",
      "    \n",
      "    # List of all doors\n",
      "    doors = ['goat'] * nDoor\n",
      "    \n",
      "    # Randomly assign a door behind which there is a \"Car\"\n",
      "    car = np.random.randint(0, nDoor)\n",
      "    doors[car] = 'car'\n",
      "    \n",
      "    # Contestant makes a random guess\n",
      "    guess = np.random.randint(0, nDoor)\n",
      "    \n",
      "    # Store value of guess\n",
      "    temp = doors[guess]\n",
      "\n",
      "    ## Monty Hall opens all but 2 doors:\n",
      "        # 1. Door with car behind it or the door chosen by contestant\n",
      "        # 2. One \"Goat\" door\n",
      "        \n",
      "    while len(doors) > 2:\n",
      "        \n",
      "        # Open a door such that door with car behind it or the door chosen by contestant is never opened\n",
      "        # http://docs.scipy.org/doc/numpy/reference/generated/numpy.random.choice.html#numpy.random.choice\n",
      "        openDoor = np.random.choice(range(len(doors)))\n",
      "    \n",
      "        if openDoor == car or openDoor == guess:\n",
      "            continue\n",
      "        doors.pop(openDoor)\n",
      "    \n",
      "    ## Now there are only 2 unopened doors remaining\n",
      "    # Contestant switches choice: Boolean - value True or False    \n",
      "    if switch_choice: # If true contestant switches choice\n",
      "        \n",
      "        # Switch the choice to other unopened door, i.e. remove from unopened door list\n",
      "        closedDoors = list(doors)\n",
      "        closedDoors.remove(temp)\n",
      "        \n",
      "        # Only one unopened door remains, update guess \n",
      "        temp = closedDoors.pop()\n",
      "     \n",
      "    # Check if guessed door has car behind it or not\n",
      "    result = (temp == 'car')\n",
      "    return result"
     ],
     "language": "python",
     "metadata": {},
     "outputs": [],
     "prompt_number": 7
    },
    {
     "cell_type": "code",
     "collapsed": false,
     "input": [
      "## Simulation\n",
      "win_switch = 0\n",
      "win_no_switch = 0\n",
      "\n",
      "for i in range(nSim):\n",
      "    switch_trial = game(nDoor, switch_choice = True)\n",
      "    if switch_trial is True:\n",
      "        win_switch += 1\n",
      "    \n",
      "    no_switch_trial = game(nDoor, switch_choice = False)\n",
      "    if no_switch_trial is True:\n",
      "        win_no_switch += 1\n",
      "    \n",
      "print 'If you switch door, the probability of winning the car is: %0.2f' % (float(win_switch)/nSim)\n",
      "print 'If you do not switch, the probability of winning the car is: %0.2f'% (float(win_no_switch)/nSim)"
     ],
     "language": "python",
     "metadata": {},
     "outputs": [
      {
       "output_type": "stream",
       "stream": "stdout",
       "text": [
        "If you switch door, the probability of winning the car is: 0.67\n",
        "If you do not switch, the probability of winning the car is: 0.33\n"
       ]
      }
     ],
     "prompt_number": 8
    },
    {
     "cell_type": "code",
     "collapsed": false,
     "input": [],
     "language": "python",
     "metadata": {},
     "outputs": []
    }
   ],
   "metadata": {}
  }
 ]
}